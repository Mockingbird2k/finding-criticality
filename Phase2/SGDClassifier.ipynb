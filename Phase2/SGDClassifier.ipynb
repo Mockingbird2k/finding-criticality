{
  "nbformat": 4,
  "nbformat_minor": 0,
  "metadata": {
    "colab": {
      "name": "MLP_phas2_SGDClassifier.ipynb",
      "provenance": []
    },
    "kernelspec": {
      "name": "python3",
      "display_name": "Python 3"
    },
    "language_info": {
      "name": "python"
    }
  },
  "cells": [
    {
      "cell_type": "markdown",
      "metadata": {
        "id": "Aqo3NqkeUYDd"
      },
      "source": [
        "#preparing data"
      ]
    },
    {
      "cell_type": "code",
      "metadata": {
        "id": "ItJFQmxB9LXe"
      },
      "source": [
        "#data\n",
        "import pandas as pd\n",
        "import numpy as np\n",
        "import requests\n",
        "import io\n",
        "    \n",
        "# Downloading the csv file from your GitHub account\n",
        "\n",
        "url = \"https://raw.githubusercontent.com/ali-mahani/finding-criticality/master/Phase1/main_data.csv\" # Make sure the url is the raw version of the file on GitHub\n",
        "download = requests.get(url).content\n",
        "\n",
        "# Reading the downloaded content and turning it into a pandas dataframe\n",
        "\n",
        "df = pd.read_csv(io.StringIO(download.decode('utf-8')))\n",
        "df = df.dropna()\n",
        "# Printing out the first 5 rows of the dataframe\n",
        "\n",
        "# print (df.head())\n",
        "X = df.drop(columns= 'criticality')\n",
        "y = df.criticality\n"
      ],
      "execution_count": 1,
      "outputs": []
    },
    {
      "cell_type": "code",
      "metadata": {
        "colab": {
          "base_uri": "https://localhost:8080/"
        },
        "id": "C045kFyBMjmr",
        "outputId": "f3995272-a730-4c07-fd56-592f2d20666b"
      },
      "source": [
        "#making train and test data\n",
        "from sklearn.model_selection import train_test_split\n",
        "X_train, X_test, y_train, y_test = train_test_split(X, y, test_size=0.20, random_state=42)\n",
        "len(X_train)"
      ],
      "execution_count": 2,
      "outputs": [
        {
          "output_type": "execute_result",
          "data": {
            "text/plain": [
              "6568"
            ]
          },
          "metadata": {},
          "execution_count": 2
        }
      ]
    },
    {
      "cell_type": "code",
      "metadata": {
        "id": "tk6JpgZpMmbq"
      },
      "source": [
        "#scaling data \n",
        "from sklearn.preprocessing import StandardScaler\n",
        "scaler = StandardScaler()\n",
        "X_train_scaled = scaler.fit_transform(X_train.astype(np.float64))"
      ],
      "execution_count": 3,
      "outputs": []
    },
    {
      "cell_type": "markdown",
      "metadata": {
        "id": "9tXtRRJNUm6F"
      },
      "source": [
        "#model"
      ]
    },
    {
      "cell_type": "code",
      "metadata": {
        "colab": {
          "base_uri": "https://localhost:8080/"
        },
        "id": "S_hMpJpVMpbK",
        "outputId": "1575d43b-c1f4-4dd6-bec0-65f134f6fe70"
      },
      "source": [
        "%%timeit\n",
        "#multiClassifier SGD\n",
        "from sklearn.multiclass import OneVsRestClassifier\n",
        "from sklearn.linear_model import SGDClassifier\n",
        "from sklearn.preprocessing import StandardScaler\n",
        "from sklearn.pipeline import make_pipeline\n",
        "\n",
        "clf = make_pipeline(StandardScaler(), SGDClassifier(max_iter=1000, tol=1e-3, alpha = 0.0001))\n",
        "clf.fit(X_train, y_train)"
      ],
      "execution_count": 15,
      "outputs": [
        {
          "output_type": "stream",
          "name": "stdout",
          "text": [
            "10 loops, best of 5: 63.5 ms per loop\n"
          ]
        }
      ]
    },
    {
      "cell_type": "code",
      "metadata": {
        "colab": {
          "base_uri": "https://localhost:8080/"
        },
        "id": "xMRogw3gOv2y",
        "outputId": "411dc7d6-4280-4fb4-d594-369154b6f7c9"
      },
      "source": [
        "%%timeit\n",
        "clf.predict(X_test)"
      ],
      "execution_count": 17,
      "outputs": [
        {
          "output_type": "stream",
          "name": "stdout",
          "text": [
            "100 loops, best of 5: 2.07 ms per loop\n"
          ]
        }
      ]
    },
    {
      "cell_type": "markdown",
      "metadata": {
        "id": "Kz44KOdoUr5x"
      },
      "source": [
        "#confusion matrix"
      ]
    },
    {
      "cell_type": "code",
      "metadata": {
        "colab": {
          "base_uri": "https://localhost:8080/",
          "height": 403
        },
        "id": "ou-o5ur4Mrgb",
        "outputId": "4f06ca21-a357-4fa0-efac-6c25a81506f0"
      },
      "source": [
        "#confusion matrix\n",
        "from sklearn.metrics import confusion_matrix, plot_confusion_matrix\n",
        "print(confusion_matrix(y_test, clf.predict(X_test)))\n",
        "plot_confusion_matrix( clf, X_test, y_test)"
      ],
      "execution_count": 5,
      "outputs": [
        {
          "output_type": "stream",
          "name": "stdout",
          "text": [
            "[[513   7  17]\n",
            " [ 72   7  83]\n",
            " [ 31   3 910]]\n"
          ]
        },
        {
          "output_type": "stream",
          "name": "stderr",
          "text": [
            "/usr/local/lib/python3.7/dist-packages/sklearn/utils/deprecation.py:87: FutureWarning: Function plot_confusion_matrix is deprecated; Function `plot_confusion_matrix` is deprecated in 1.0 and will be removed in 1.2. Use one of the class methods: ConfusionMatrixDisplay.from_predictions or ConfusionMatrixDisplay.from_estimator.\n",
            "  warnings.warn(msg, category=FutureWarning)\n"
          ]
        },
        {
          "output_type": "execute_result",
          "data": {
            "text/plain": [
              "<sklearn.metrics._plot.confusion_matrix.ConfusionMatrixDisplay at 0x7f3965468710>"
            ]
          },
          "metadata": {},
          "execution_count": 5
        },
        {
          "output_type": "display_data",
          "data": {
            "image/png": "[encoded data removed]",
            "text/plain": [
              "<Figure size 432x288 with 2 Axes>"
            ]
          },
          "metadata": {
            "needs_background": "light"
          }
        }
      ]
    },
    {
      "cell_type": "code",
      "metadata": {
        "colab": {
          "base_uri": "https://localhost:8080/"
        },
        "id": "ChcMAy-uMujk",
        "outputId": "2bbc8a62-6dc8-4325-a0a5-41078dc80697"
      },
      "source": [
        "#report\n",
        "from sklearn.metrics import classification_report\n",
        "clf_report = classification_report(y_test, clf.predict(X_test))\n",
        "print(clf_report)"
      ],
      "execution_count": 6,
      "outputs": [
        {
          "output_type": "stream",
          "name": "stdout",
          "text": [
            "              precision    recall  f1-score   support\n",
            "\n",
            "           1       0.83      0.96      0.89       537\n",
            "           2       0.41      0.04      0.08       162\n",
            "           3       0.90      0.96      0.93       944\n",
            "\n",
            "    accuracy                           0.87      1643\n",
            "   macro avg       0.72      0.65      0.63      1643\n",
            "weighted avg       0.83      0.87      0.83      1643\n",
            "\n"
          ]
        }
      ]
    },
    {
      "cell_type": "markdown",
      "metadata": {
        "id": "VXFjPySWUwf8"
      },
      "source": [
        "#validation curve"
      ]
    },
    {
      "cell_type": "code",
      "metadata": {
        "colab": {
          "base_uri": "https://localhost:8080/",
          "height": 334
        },
        "id": "inSVCRatMxmf",
        "outputId": "f7c7881e-a903-4b03-a3ec-2913986be128"
      },
      "source": [
        "#validation curve\n",
        "import matplotlib.pyplot as plt\n",
        "import numpy as np\n",
        "from sklearn.model_selection import validation_curve\n",
        "alpha_list = [0,0.0001,0.0005,0.001,0.005,0.01,0.05,0.1,0.5,1,5,10,20,30,40]\n",
        "\n",
        "train_scores, valid_scores = validation_curve(SGDClassifier(max_iter=1000, tol=1e-3, alpha = 0.0001),  X_train_scaled, y_train, \n",
        "                                              param_name=\"alpha\",\n",
        "                                              param_range=alpha_list , \n",
        "                                              cv=5, \n",
        "                                              scoring = 'accuracy',\n",
        "                                              verbose=1, n_jobs=-1\n",
        "                                             )\n",
        "\n",
        "train_scores_mean = np.mean(train_scores, axis=1)\n",
        "train_scores_std = np.std(train_scores, axis=1)\n",
        "valid_scores_mean = np.mean(valid_scores, axis=1)\n",
        "valid_scores_std = np.std(valid_scores, axis=1)\n",
        "\n",
        "\n",
        "xlabel = 'alpha'\n",
        "ylabel = 'Accuracy'\n",
        "\n",
        "plt_title = 'Validation Curve, SGDClassifier'#.format(k)\n",
        "\n",
        "fig = plt.figure()\n",
        "ax = fig.add_subplot(111, xlabel=xlabel, ylabel=ylabel, title=plt_title)\n",
        "plt.semilogx(alpha_list, train_scores_mean, label=\"Training score\",\n",
        "             color=\"darkorange\", lw=2)\n",
        "plt.fill_between(alpha_list, train_scores_mean - train_scores_std,\n",
        "                 train_scores_mean + train_scores_std, alpha=0.2,\n",
        "                 color=\"darkorange\", lw=2)\n",
        "plt.semilogx(alpha_list, valid_scores_mean, label=\"Validation score\",\n",
        "             color=\"navy\", lw=2)\n",
        "plt.fill_between(alpha_list, valid_scores_mean - valid_scores_std,\n",
        "                 valid_scores_mean + valid_scores_std, alpha=0.2,\n",
        "                 color=\"navy\", lw=2)\n",
        "plt.legend(loc=\"best\")\n",
        "plt.show()"
      ],
      "execution_count": 21,
      "outputs": [
        {
          "output_type": "stream",
          "name": "stderr",
          "text": [
            "[Parallel(n_jobs=-1)]: Using backend LokyBackend with 2 concurrent workers.\n",
            "[Parallel(n_jobs=-1)]: Done  75 out of  75 | elapsed:    1.6s finished\n"
          ]
        },
        {
          "output_type": "display_data",
          "data": {
            "image/png": "[encoded data removed]",
            "text/plain": [
              "<Figure size 432x288 with 1 Axes>"
            ]
          },
          "metadata": {
            "needs_background": "light"
          }
        }
      ]
    },
    {
      "cell_type": "markdown",
      "metadata": {
        "id": "s-sAag9JU0Zb"
      },
      "source": [
        "#learning curve"
      ]
    },
    {
      "cell_type": "code",
      "metadata": {
        "colab": {
          "base_uri": "https://localhost:8080/",
          "height": 295
        },
        "id": "2ww5OlMvM37t",
        "outputId": "b166ecf3-fcd6-4c67-89fa-15f8db78f3c3"
      },
      "source": [
        "#learning curve\n",
        "from sklearn.model_selection import learning_curve\n",
        "import matplotlib.pyplot as plt\n",
        "import numpy as np\n",
        "ns_list = np.array([ 3, 5, 10, 20 , 30 , 50, 76, 200,400,600,1000,4000])\n",
        "ncv = 5\n",
        "\n",
        "ns_list, train_scores, validation_scores = learning_curve(\n",
        "                                                   estimator = SGDClassifier(max_iter=1000, tol=1e-3 ), \n",
        "                                                   X = X_train_scaled, y = y_train, \n",
        "                                                   train_sizes = ns_list, \n",
        "                                                   cv = ncv,\n",
        "                                                   scoring = 'accuracy', \n",
        "                                                   n_jobs= -1\n",
        "                                                   )\n",
        "\n",
        "train_scores_mean =  train_scores.mean(axis = 1)\n",
        "train_scores_std = np.std(train_scores, axis=1)\n",
        "validation_scores_mean =  validation_scores.mean(axis = 1)\n",
        "validation_scores_std  = validation_scores.std(axis = 1)\n",
        "\n",
        "xlabel = 'Sample Size'\n",
        "ylabel = 'Accuracy'\n",
        "\n",
        "plt_title = 'Learning Curve, SGDClassifier'\n",
        "\n",
        "fig = plt.figure()\n",
        "ax = fig.add_subplot(111, xlabel=xlabel, ylabel=ylabel, title=plt_title)\n",
        "ax.plot(ns_list, train_scores_mean, label = 'Training Score')\n",
        "ax.plot(ns_list, validation_scores_mean, label = 'Validation Score')\n",
        "\n",
        "plt.fill_between(ns_list, train_scores_mean - train_scores_std,\n",
        "                 train_scores_mean + train_scores_std, alpha=0.2,\n",
        "                 color=\"darkblue\", lw=2)\n",
        "plt.fill_between(ns_list, validation_scores_mean - validation_scores_std,\n",
        "                 validation_scores_mean + validation_scores_std, alpha=0.2,\n",
        "                 color=\"darkgreen\", lw=2)\n",
        "\n",
        "\n",
        "ax.legend(loc=0)\n",
        "plt.show()"
      ],
      "execution_count": 27,
      "outputs": [
        {
          "output_type": "display_data",
          "data": {
            "image/png": "[encoded data removed]",
            "text/plain": [
              "<Figure size 432x288 with 1 Axes>"
            ]
          },
          "metadata": {
            "needs_background": "light"
          }
        }
      ]
    },
    {
      "cell_type": "markdown",
      "metadata": {
        "id": "EuHo18M5U5po"
      },
      "source": [
        "#metric"
      ]
    },
    {
      "cell_type": "code",
      "metadata": {
        "colab": {
          "base_uri": "https://localhost:8080/",
          "height": 525
        },
        "id": "xDzomjobM906",
        "outputId": "f9a0d24e-bd24-4fbb-ddef-79d14f2ea164"
      },
      "source": [
        "#multiClassifier SGD\n",
        "#metric = l2\n",
        "from sklearn.multiclass import OneVsRestClassifier\n",
        "from sklearn.linear_model import SGDClassifier\n",
        "from sklearn.preprocessing import StandardScaler\n",
        "from sklearn.pipeline import make_pipeline\n",
        "from sklearn.metrics import classification_report\n",
        "from sklearn.metrics import confusion_matrix, plot_confusion_matrix\n",
        "\n",
        "clf = make_pipeline(StandardScaler(), SGDClassifier(penalty='l2',max_iter=1000, tol=1e-3, alpha = 0.0001))\n",
        "clf.fit(X_train, y_train)\n",
        "clf_report = classification_report(y_test, clf.predict(X_test))\n",
        "print(clf_report)\n",
        "plot_confusion_matrix( clf, X_test, y_test)"
      ],
      "execution_count": 9,
      "outputs": [
        {
          "output_type": "stream",
          "name": "stdout",
          "text": [
            "              precision    recall  f1-score   support\n",
            "\n",
            "           1       0.84      0.96      0.89       537\n",
            "           2       0.17      0.01      0.01       162\n",
            "           3       0.90      0.97      0.93       944\n",
            "\n",
            "    accuracy                           0.87      1643\n",
            "   macro avg       0.63      0.64      0.61      1643\n",
            "weighted avg       0.80      0.87      0.83      1643\n",
            "\n"
          ]
        },
        {
          "output_type": "stream",
          "name": "stderr",
          "text": [
            "/usr/local/lib/python3.7/dist-packages/sklearn/utils/deprecation.py:87: FutureWarning: Function plot_confusion_matrix is deprecated; Function `plot_confusion_matrix` is deprecated in 1.0 and will be removed in 1.2. Use one of the class methods: ConfusionMatrixDisplay.from_predictions or ConfusionMatrixDisplay.from_estimator.\n",
            "  warnings.warn(msg, category=FutureWarning)\n"
          ]
        },
        {
          "output_type": "execute_result",
          "data": {
            "text/plain": [
              "<sklearn.metrics._plot.confusion_matrix.ConfusionMatrixDisplay at 0x7f3962c5fc90>"
            ]
          },
          "metadata": {},
          "execution_count": 9
        },
        {
          "output_type": "display_data",
          "data": {
            "image/png": "[encoded data removed]",
            "text/plain": [
              "<Figure size 432x288 with 2 Axes>"
            ]
          },
          "metadata": {
            "needs_background": "light"
          }
        }
      ]
    },
    {
      "cell_type": "code",
      "metadata": {
        "colab": {
          "base_uri": "https://localhost:8080/",
          "height": 525
        },
        "id": "W-pm2EhnM-ne",
        "outputId": "f363177c-b9ea-4665-859c-9f7687b8dd5a"
      },
      "source": [
        "#multiClassifier SGD\n",
        "#metric = l1\n",
        "from sklearn.multiclass import OneVsRestClassifier\n",
        "from sklearn.linear_model import SGDClassifier\n",
        "from sklearn.preprocessing import StandardScaler\n",
        "from sklearn.pipeline import make_pipeline\n",
        "from sklearn.metrics import classification_report\n",
        "from sklearn.metrics import confusion_matrix, plot_confusion_matrix\n",
        "\n",
        "clf = make_pipeline(StandardScaler(), SGDClassifier(penalty='l1',max_iter=1000, tol=1e-3, alpha = 0.0001))\n",
        "clf.fit(X_train, y_train)\n",
        "clf_report = classification_report(y_test, clf.predict(X_test))\n",
        "print(clf_report)\n",
        "plot_confusion_matrix( clf, X_test, y_test)"
      ],
      "execution_count": 10,
      "outputs": [
        {
          "output_type": "stream",
          "name": "stdout",
          "text": [
            "              precision    recall  f1-score   support\n",
            "\n",
            "           1       0.82      0.95      0.88       537\n",
            "           2       0.39      0.04      0.08       162\n",
            "           3       0.91      0.96      0.93       944\n",
            "\n",
            "    accuracy                           0.87      1643\n",
            "   macro avg       0.70      0.65      0.63      1643\n",
            "weighted avg       0.83      0.87      0.83      1643\n",
            "\n"
          ]
        },
        {
          "output_type": "stream",
          "name": "stderr",
          "text": [
            "/usr/local/lib/python3.7/dist-packages/sklearn/utils/deprecation.py:87: FutureWarning: Function plot_confusion_matrix is deprecated; Function `plot_confusion_matrix` is deprecated in 1.0 and will be removed in 1.2. Use one of the class methods: ConfusionMatrixDisplay.from_predictions or ConfusionMatrixDisplay.from_estimator.\n",
            "  warnings.warn(msg, category=FutureWarning)\n"
          ]
        },
        {
          "output_type": "execute_result",
          "data": {
            "text/plain": [
              "<sklearn.metrics._plot.confusion_matrix.ConfusionMatrixDisplay at 0x7f3961bb3d90>"
            ]
          },
          "metadata": {},
          "execution_count": 10
        },
        {
          "output_type": "display_data",
          "data": {
            "image/png": "[encoded data removed]",
            "text/plain": [
              "<Figure size 432x288 with 2 Axes>"
            ]
          },
          "metadata": {
            "needs_background": "light"
          }
        }
      ]
    },
    {
      "cell_type": "code",
      "metadata": {
        "id": "QOxHArR5NDS0"
      },
      "source": [
        ""
      ],
      "execution_count": 10,
      "outputs": []
    }
  ]
}