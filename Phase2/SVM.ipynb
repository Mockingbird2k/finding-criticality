{
 "cells": [
  {
   "cell_type": "markdown",
   "metadata": {},
   "source": [
    "# SVM Classifier"
   ]
  },
  {
   "cell_type": "code",
   "execution_count": 41,
   "metadata": {
    "id": "n-0snyrkUM_W"
   },
   "outputs": [],
   "source": [
    "import pandas as pd\n",
    "import numpy as np\n",
    "import matplotlib.pyplot as plt\n",
    "from sklearn.model_selection import train_test_split\n",
    "from sklearn.svm import SVC, SVR\n",
    "from sklearn.metrics import classification_report\n",
    "from sklearn.metrics import confusion_matrix\n",
    "from sklearn.model_selection import GridSearchCV\n",
    "from sklearn.preprocessing import StandardScaler, MinMaxScaler\n",
    "from sklearn.model_selection import StratifiedShuffleSplit\n",
    "\n"
   ]
  },
  {
   "cell_type": "code",
   "execution_count": 4,
   "metadata": {
    "id": "GRJMak2aUM_c"
   },
   "outputs": [],
   "source": [
    "df= pd.read_csv(r'C:\\Users\\ROZHIN\\Documents\\GitHub\\finding-criticality\\Phase1\\main_data.csv')"
   ]
  },
  {
   "cell_type": "code",
   "execution_count": 5,
   "metadata": {
    "colab": {
     "base_uri": "https://localhost:8080/"
    },
    "id": "t2Dp5WidUM_c",
    "outputId": "38dfc087-c53c-431d-ea74-ee9d28ca918b"
   },
   "outputs": [
    {
     "name": "stdout",
     "output_type": "stream",
     "text": [
      "['Unnamed: 0', '# of bumps', '# of inflections', 'curvature', 'min i', 'max i', 'x min', 'x max', 'y min', 'y max', 'S', 'criticality']\n",
      "(8798, 12)\n"
     ]
    }
   ],
   "source": [
    "index= df.columns.tolist()\n",
    "print(index)\n",
    "print(df.shape)"
   ]
  },
  {
   "cell_type": "code",
   "execution_count": 6,
   "metadata": {
    "id": "Ygyjs1phUM_d"
   },
   "outputs": [],
   "source": [
    "#making color code for the labels\n",
    "C=[]\n",
    "Y=df['criticality']\n",
    "for i in range(len(Y)):\n",
    "    if Y[i]==1: \n",
    "        C.append('g')\n",
    "    elif Y[i]==2:\n",
    "        C.append('r')\n",
    "    else:\n",
    "        C.append('b')\n",
    "        \n",
    "#combining features to make new and more useful features based on visualization of the data (which we'll see an example of later)\n",
    "df['delta x']= df['x max']-df['x min']\n",
    "df['delta y']= df['y max']-df['y min']"
   ]
  },
  {
   "cell_type": "code",
   "execution_count": 7,
   "metadata": {
    "id": "tqnqAwKVUM_d"
   },
   "outputs": [
    {
     "name": "stderr",
     "output_type": "stream",
     "text": [
      "C:\\ProgramData\\Anaconda3\\lib\\site-packages\\sklearn\\preprocessing\\data.py:645: DataConversionWarning: Data with input dtype int64, float64 were all converted to float64 by StandardScaler.\n",
      "  return self.partial_fit(X, y)\n",
      "C:\\ProgramData\\Anaconda3\\lib\\site-packages\\sklearn\\base.py:464: DataConversionWarning: Data with input dtype int64, float64 were all converted to float64 by StandardScaler.\n",
      "  return self.fit(X, **fit_params).transform(X)\n"
     ]
    }
   ],
   "source": [
    "#Scaling Data\n",
    "scaler= StandardScaler()\n",
    "df[['curvature', 'min i', 'max i', 'x min', 'x max', 'y min', 'y max', 'S','delta x','delta y']] = scaler.fit_transform(df[['curvature', 'min i', 'max i', 'x min', 'x max', 'y min', 'y max', 'S','delta x','delta y']])"
   ]
  },
  {
   "cell_type": "code",
   "execution_count": 32,
   "metadata": {
    "colab": {
     "base_uri": "https://localhost:8080/",
     "height": 283
    },
    "id": "WwRyWPAEUM_e",
    "outputId": "9adeb1bd-e367-4f9c-d7aa-b01b45ff0fe9"
   },
   "outputs": [
    {
     "data": {
      "image/png": "[encoded data removed]",
      "text/plain": [
       "<Figure size 432x288 with 1 Axes>"
      ]
     },
     "metadata": {
      "needs_background": "light"
     },
     "output_type": "display_data"
    },
    {
     "name": "stdout",
     "output_type": "stream",
     "text": [
      "0\n"
     ]
    }
   ],
   "source": [
    "#A visualization of a feature features\n",
    "plt.scatter(df.iloc[:,[10]], df.iloc[:,[11]], c=C,s=3)\n",
    "plt.ylabel('label')\n",
    "plt.xlabel('S')\n",
    "plt.show()\n",
    "print(df['# of inflections'].min())"
   ]
  },
  {
   "cell_type": "code",
   "execution_count": 9,
   "metadata": {
    "colab": {
     "base_uri": "https://localhost:8080/"
    },
    "id": "aFyK-VyIUM_f",
    "outputId": "52dd6a61-8a69-4cbd-9b4b-5e690ca0e33a"
   },
   "outputs": [],
   "source": [
    "#Train_test split\n",
    "\n",
    "X=df[['min i', 'max i', 'x min', 'x max', 'y min', 'y max', 'S','delta x','delta y']]\n",
    "Y=df['criticality']\n",
    "\n",
    "X_train,X_test,Y_train,Y_test =  train_test_split(X,Y,test_size=0.2)\n",
    "#print(X_train.shape[1])"
   ]
  },
  {
   "cell_type": "code",
   "execution_count": 10,
   "metadata": {
    "colab": {
     "base_uri": "https://localhost:8080/"
    },
    "id": "pO6_SHoWUM_f",
    "outputId": "d0e82d4d-4944-4d56-966e-229193cc3950"
   },
   "outputs": [
    {
     "name": "stderr",
     "output_type": "stream",
     "text": [
      "C:\\ProgramData\\Anaconda3\\lib\\site-packages\\sklearn\\svm\\base.py:196: FutureWarning: The default value of gamma will change from 'auto' to 'scale' in version 0.22 to account better for unscaled features. Set gamma explicitly to 'auto' or 'scale' to avoid this warning.\n",
      "  \"avoid this warning.\", FutureWarning)\n"
     ]
    },
    {
     "name": "stdout",
     "output_type": "stream",
     "text": [
      "              precision    recall  f1-score   support\n",
      "\n",
      "           1       0.88      0.92      0.90       523\n",
      "           2       0.59      0.29      0.39       163\n",
      "           3       0.93      0.98      0.96      1074\n",
      "\n",
      "   micro avg       0.90      0.90      0.90      1760\n",
      "   macro avg       0.80      0.73      0.75      1760\n",
      "weighted avg       0.88      0.90      0.89      1760\n",
      "\n"
     ]
    },
    {
     "name": "stderr",
     "output_type": "stream",
     "text": [
      "C:\\ProgramData\\Anaconda3\\lib\\site-packages\\sklearn\\svm\\base.py:196: FutureWarning: The default value of gamma will change from 'auto' to 'scale' in version 0.22 to account better for unscaled features. Set gamma explicitly to 'auto' or 'scale' to avoid this warning.\n",
      "  \"avoid this warning.\", FutureWarning)\n"
     ]
    },
    {
     "name": "stdout",
     "output_type": "stream",
     "text": [
      "              precision    recall  f1-score   support\n",
      "\n",
      "           1       0.88      0.92      0.90       523\n",
      "           2       0.59      0.29      0.39       163\n",
      "           3       0.93      0.98      0.96      1074\n",
      "\n",
      "   micro avg       0.90      0.90      0.90      1760\n",
      "   macro avg       0.80      0.73      0.75      1760\n",
      "weighted avg       0.88      0.90      0.89      1760\n",
      "\n"
     ]
    },
    {
     "name": "stderr",
     "output_type": "stream",
     "text": [
      "C:\\ProgramData\\Anaconda3\\lib\\site-packages\\sklearn\\svm\\base.py:196: FutureWarning: The default value of gamma will change from 'auto' to 'scale' in version 0.22 to account better for unscaled features. Set gamma explicitly to 'auto' or 'scale' to avoid this warning.\n",
      "  \"avoid this warning.\", FutureWarning)\n"
     ]
    },
    {
     "name": "stdout",
     "output_type": "stream",
     "text": [
      "              precision    recall  f1-score   support\n",
      "\n",
      "           1       0.88      0.92      0.90       523\n",
      "           2       0.59      0.29      0.39       163\n",
      "           3       0.93      0.98      0.96      1074\n",
      "\n",
      "   micro avg       0.90      0.90      0.90      1760\n",
      "   macro avg       0.80      0.73      0.75      1760\n",
      "weighted avg       0.88      0.90      0.89      1760\n",
      "\n"
     ]
    },
    {
     "name": "stderr",
     "output_type": "stream",
     "text": [
      "C:\\ProgramData\\Anaconda3\\lib\\site-packages\\sklearn\\svm\\base.py:196: FutureWarning: The default value of gamma will change from 'auto' to 'scale' in version 0.22 to account better for unscaled features. Set gamma explicitly to 'auto' or 'scale' to avoid this warning.\n",
      "  \"avoid this warning.\", FutureWarning)\n"
     ]
    },
    {
     "name": "stdout",
     "output_type": "stream",
     "text": [
      "              precision    recall  f1-score   support\n",
      "\n",
      "           1       0.88      0.92      0.90       523\n",
      "           2       0.59      0.29      0.39       163\n",
      "           3       0.93      0.98      0.96      1074\n",
      "\n",
      "   micro avg       0.90      0.90      0.90      1760\n",
      "   macro avg       0.80      0.73      0.75      1760\n",
      "weighted avg       0.88      0.90      0.89      1760\n",
      "\n"
     ]
    },
    {
     "name": "stderr",
     "output_type": "stream",
     "text": [
      "C:\\ProgramData\\Anaconda3\\lib\\site-packages\\sklearn\\svm\\base.py:196: FutureWarning: The default value of gamma will change from 'auto' to 'scale' in version 0.22 to account better for unscaled features. Set gamma explicitly to 'auto' or 'scale' to avoid this warning.\n",
      "  \"avoid this warning.\", FutureWarning)\n"
     ]
    },
    {
     "name": "stdout",
     "output_type": "stream",
     "text": [
      "              precision    recall  f1-score   support\n",
      "\n",
      "           1       0.88      0.92      0.90       523\n",
      "           2       0.59      0.29      0.39       163\n",
      "           3       0.93      0.98      0.96      1074\n",
      "\n",
      "   micro avg       0.90      0.90      0.90      1760\n",
      "   macro avg       0.80      0.73      0.75      1760\n",
      "weighted avg       0.88      0.90      0.89      1760\n",
      "\n"
     ]
    },
    {
     "name": "stderr",
     "output_type": "stream",
     "text": [
      "C:\\ProgramData\\Anaconda3\\lib\\site-packages\\sklearn\\svm\\base.py:196: FutureWarning: The default value of gamma will change from 'auto' to 'scale' in version 0.22 to account better for unscaled features. Set gamma explicitly to 'auto' or 'scale' to avoid this warning.\n",
      "  \"avoid this warning.\", FutureWarning)\n"
     ]
    },
    {
     "name": "stdout",
     "output_type": "stream",
     "text": [
      "              precision    recall  f1-score   support\n",
      "\n",
      "           1       0.88      0.92      0.90       523\n",
      "           2       0.59      0.29      0.39       163\n",
      "           3       0.93      0.98      0.96      1074\n",
      "\n",
      "   micro avg       0.90      0.90      0.90      1760\n",
      "   macro avg       0.80      0.73      0.75      1760\n",
      "weighted avg       0.88      0.90      0.89      1760\n",
      "\n"
     ]
    },
    {
     "name": "stderr",
     "output_type": "stream",
     "text": [
      "C:\\ProgramData\\Anaconda3\\lib\\site-packages\\sklearn\\svm\\base.py:196: FutureWarning: The default value of gamma will change from 'auto' to 'scale' in version 0.22 to account better for unscaled features. Set gamma explicitly to 'auto' or 'scale' to avoid this warning.\n",
      "  \"avoid this warning.\", FutureWarning)\n"
     ]
    },
    {
     "name": "stdout",
     "output_type": "stream",
     "text": [
      "              precision    recall  f1-score   support\n",
      "\n",
      "           1       0.88      0.92      0.90       523\n",
      "           2       0.59      0.29      0.39       163\n",
      "           3       0.93      0.98      0.96      1074\n",
      "\n",
      "   micro avg       0.90      0.90      0.90      1760\n",
      "   macro avg       0.80      0.73      0.75      1760\n",
      "weighted avg       0.88      0.90      0.89      1760\n",
      "\n"
     ]
    },
    {
     "name": "stderr",
     "output_type": "stream",
     "text": [
      "C:\\ProgramData\\Anaconda3\\lib\\site-packages\\sklearn\\svm\\base.py:196: FutureWarning: The default value of gamma will change from 'auto' to 'scale' in version 0.22 to account better for unscaled features. Set gamma explicitly to 'auto' or 'scale' to avoid this warning.\n",
      "  \"avoid this warning.\", FutureWarning)\n"
     ]
    },
    {
     "name": "stdout",
     "output_type": "stream",
     "text": [
      "              precision    recall  f1-score   support\n",
      "\n",
      "           1       0.88      0.92      0.90       523\n",
      "           2       0.59      0.29      0.39       163\n",
      "           3       0.93      0.98      0.96      1074\n",
      "\n",
      "   micro avg       0.90      0.90      0.90      1760\n",
      "   macro avg       0.80      0.73      0.75      1760\n",
      "weighted avg       0.88      0.90      0.89      1760\n",
      "\n",
      "431 ms ± 25.6 ms per loop (mean ± std. dev. of 7 runs, 1 loop each)\n"
     ]
    }
   ],
   "source": [
    "#first prediciton\n",
    "\n",
    "model = SVC(kernel='rbf')\n",
    "model.fit(X_train, Y_train)\n",
    "\n",
    "Y_pred = model.predict(X_test)\n",
    "print(classification_report(Y_test, Y_pred))\n"
   ]
  },
  {
   "cell_type": "code",
   "execution_count": 27,
   "metadata": {
    "colab": {
     "base_uri": "https://localhost:8080/"
    },
    "id": "3aJijXGmUM_g",
    "outputId": "0f5a1574-2b04-4047-d79a-4b8e07adce61"
   },
   "outputs": [
    {
     "name": "stdout",
     "output_type": "stream",
     "text": [
      "Fitting 5 folds for each of 25 candidates, totalling 125 fits\n"
     ]
    },
    {
     "name": "stderr",
     "output_type": "stream",
     "text": [
      "[Parallel(n_jobs=-1)]: Using backend LokyBackend with 4 concurrent workers.\n",
      "[Parallel(n_jobs=-1)]: Done  24 tasks      | elapsed:   15.7s\n",
      "[Parallel(n_jobs=-1)]: Done 125 out of 125 | elapsed:  1.4min finished\n"
     ]
    },
    {
     "name": "stdout",
     "output_type": "stream",
     "text": [
      "{'C': 15, 'gamma': 0.5, 'kernel': 'rbf'}\n",
      "SVC(C=15, cache_size=200, class_weight=None, coef0=0.0,\n",
      "  decision_function_shape='ovr', degree=3, gamma=0.5, kernel='rbf',\n",
      "  max_iter=-1, probability=False, random_state=None, shrinking=True,\n",
      "  tol=0.001, verbose=False)\n"
     ]
    }
   ],
   "source": [
    "#Optimization\n",
    "\n",
    "param_grid = {'C': [0.01,0.1,1,15,500],\n",
    "              'gamma': [0.001,0.01,0.5,5,50],\n",
    "              'kernel': ['rbf']}\n",
    "grid = GridSearchCV(SVC(), param_grid, refit = True, verbose = 3,return_train_score=True , cv=5 , n_jobs=-1)\n",
    "\n",
    " \n",
    "grid.fit(X_train, Y_train)\n",
    "\n",
    "print(grid.best_params_)\n",
    " \n",
    "print(grid.best_estimator_)\n",
    "\n",
    "data = pd.DataFrame(grid.cv_results_)"
   ]
  },
  {
   "cell_type": "code",
   "execution_count": 28,
   "metadata": {
    "colab": {
     "base_uri": "https://localhost:8080/",
     "height": 238
    },
    "id": "2JoL_VSd3GtP",
    "outputId": "d564919c-bea0-4de2-ddd3-9c378b8966c5"
   },
   "outputs": [
    {
     "data": {
      "image/png": "[encoded data removed]",
      "text/plain": [
       "<Figure size 1080x504 with 3 Axes>"
      ]
     },
     "metadata": {
      "needs_background": "light"
     },
     "output_type": "display_data"
    }
   ],
   "source": [
    "#validation Curves\n",
    "\n",
    "results = ['mean_test_score',\n",
    "           'mean_train_score',\n",
    "           'std_test_score', \n",
    "           'std_train_score']\n",
    "\n",
    "def pooled_var(stds):\n",
    "    n = 5 # size of each group\n",
    "    return np.sqrt(sum((n-1)*(stds**2))/ len(stds)*(n-1))\n",
    "\n",
    "fig, axes = plt.subplots(1, len(param_grid), \n",
    "                         figsize = (5*len(param_grid), 7),\n",
    "                         sharey='row')\n",
    "axes[0].set_ylabel(\"Score\", fontsize=25)\n",
    "\n",
    "\n",
    "for idx, (param_name, param_range) in enumerate(param_grid.items()):\n",
    "    grouped_df = data.groupby(f'param_{param_name}')[results]\\\n",
    "        .agg({'mean_train_score': 'mean',\n",
    "              'mean_test_score': 'mean',\n",
    "              'std_train_score': pooled_var,\n",
    "              'std_test_score': pooled_var})\n",
    "\n",
    "    previous_group = data.groupby(f'param_{param_name}')[results]\n",
    "    axes[idx].set_xlabel(param_name, fontsize=30)\n",
    "    axes[idx].set_ylim(0.0, 1.1)\n",
    "    lw = 2\n",
    "    axes[idx].plot(param_range, grouped_df['mean_train_score'], label=\"Training score\",\n",
    "                color=\"darkorange\", lw=lw)\n",
    "    axes[idx].fill_between(param_range,grouped_df['mean_train_score'] - grouped_df['std_train_score'],\n",
    "                    grouped_df['mean_train_score'] + grouped_df['std_train_score'], alpha=0.2,\n",
    "                    color=\"darkorange\", lw=lw)\n",
    "    axes[idx].plot(param_range, grouped_df['mean_test_score'], label=\"Cross-validation score\",\n",
    "                color=\"navy\", lw=lw)\n",
    "    axes[idx].fill_between(param_range, grouped_df['mean_test_score'] - grouped_df['std_test_score'],\n",
    "                    grouped_df['mean_test_score'] + grouped_df['std_test_score'], alpha=0.2,\n",
    "                    color=\"navy\", lw=lw)\n",
    "\n",
    "\n",
    "handles, labels = axes[0].get_legend_handles_labels()\n",
    "fig.suptitle('Validation curve', fontsize=30)\n",
    "fig.legend(handles, labels, loc=8, ncol=2, fontsize=20)\n",
    "\n",
    "fig.subplots_adjust(bottom=0.25, top=0.85)  \n",
    "plt.show()"
   ]
  },
  {
   "cell_type": "code",
   "execution_count": 29,
   "metadata": {
    "id": "KTUM3yCvUM_h",
    "outputId": "b6a19eab-7f00-4bcd-d719-cf84fc7554b1"
   },
   "outputs": [
    {
     "name": "stdout",
     "output_type": "stream",
     "text": [
      "              precision    recall  f1-score   support\n",
      "\n",
      "           1       0.89      0.93      0.91       523\n",
      "           2       0.65      0.55      0.59       163\n",
      "           3       0.96      0.97      0.96      1074\n",
      "\n",
      "   micro avg       0.92      0.92      0.92      1760\n",
      "   macro avg       0.83      0.81      0.82      1760\n",
      "weighted avg       0.91      0.92      0.91      1760\n",
      "\n",
      "[[ 485   22   16]\n",
      " [  49   89   25]\n",
      " [  10   26 1038]]\n"
     ]
    }
   ],
   "source": [
    "#Confusion Matrix \n",
    "\n",
    "grid_predictions = grid.predict(X_test)\n",
    " \n",
    "print(classification_report(Y_test, grid_predictions))\n",
    "print(confusion_matrix(Y_test,grid_predictions))"
   ]
  }
 ],
 "metadata": {
  "colab": {
   "collapsed_sections": [],
   "name": "ML_MS2.ipynb",
   "provenance": []
  },
  "kernelspec": {
   "display_name": "Python 3",
   "language": "python",
   "name": "python3"
  },
  "language_info": {
   "codemirror_mode": {
    "name": "ipython",
    "version": 3
   },
   "file_extension": ".py",
   "mimetype": "text/x-python",
   "name": "python",
   "nbconvert_exporter": "python",
   "pygments_lexer": "ipython3",
   "version": "3.7.3"
  }
 },
 "nbformat": 4,
 "nbformat_minor": 1
}
