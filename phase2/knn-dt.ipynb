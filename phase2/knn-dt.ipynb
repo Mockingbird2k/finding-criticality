{
 "cells": [
  {
   "cell_type": "code",
   "execution_count": 1,
   "id": "0f4fdb5c-2156-4753-8582-f121ef3003da",
   "metadata": {},
   "outputs": [],
   "source": [
    "import pandas as pd\n",
    "import matplotlib.pyplot as plt\n",
    "import numpy as np"
   ]
  },
  {
   "cell_type": "markdown",
   "id": "0ca97c58-1bc2-4eb2-8a33-656f32308bca",
   "metadata": {},
   "source": [
    "## Data Prep"
   ]
  },
  {
   "cell_type": "code",
   "execution_count": 2,
   "id": "434509c8-986d-4fb4-adb3-7cd6d76405c8",
   "metadata": {},
   "outputs": [
    {
     "data": {
      "text/html": [
       "<div>\n",
       "<style scoped>\n",
       "    .dataframe tbody tr th:only-of-type {\n",
       "        vertical-align: middle;\n",
       "    }\n",
       "\n",
       "    .dataframe tbody tr th {\n",
       "        vertical-align: top;\n",
       "    }\n",
       "\n",
       "    .dataframe thead th {\n",
       "        text-align: right;\n",
       "    }\n",
       "</style>\n",
       "<table border=\"1\" class=\"dataframe\">\n",
       "  <thead>\n",
       "    <tr style=\"text-align: right;\">\n",
       "      <th></th>\n",
       "      <th># of bumps</th>\n",
       "      <th># of inflections</th>\n",
       "      <th>curvature</th>\n",
       "      <th>min i</th>\n",
       "      <th>max i</th>\n",
       "      <th>x min</th>\n",
       "      <th>x max</th>\n",
       "      <th>y min</th>\n",
       "      <th>y max</th>\n",
       "      <th>S</th>\n",
       "      <th>criticality</th>\n",
       "    </tr>\n",
       "  </thead>\n",
       "  <tbody>\n",
       "    <tr>\n",
       "      <th>0</th>\n",
       "      <td>3</td>\n",
       "      <td>0</td>\n",
       "      <td>3.255230</td>\n",
       "      <td>38</td>\n",
       "      <td>31</td>\n",
       "      <td>3.663562</td>\n",
       "      <td>3.465736</td>\n",
       "      <td>-11.639162</td>\n",
       "      <td>-10.540549</td>\n",
       "      <td>1.038058</td>\n",
       "      <td>1</td>\n",
       "    </tr>\n",
       "    <tr>\n",
       "      <th>1</th>\n",
       "      <td>0</td>\n",
       "      <td>0</td>\n",
       "      <td>1.404121</td>\n",
       "      <td>39</td>\n",
       "      <td>34</td>\n",
       "      <td>3.688879</td>\n",
       "      <td>3.555348</td>\n",
       "      <td>-11.066295</td>\n",
       "      <td>-10.373147</td>\n",
       "      <td>1.039465</td>\n",
       "      <td>1</td>\n",
       "    </tr>\n",
       "    <tr>\n",
       "      <th>2</th>\n",
       "      <td>0</td>\n",
       "      <td>0</td>\n",
       "      <td>-7.082191</td>\n",
       "      <td>6</td>\n",
       "      <td>0</td>\n",
       "      <td>1.945910</td>\n",
       "      <td>0.000000</td>\n",
       "      <td>-10.131818</td>\n",
       "      <td>-0.173747</td>\n",
       "      <td>1.063427</td>\n",
       "      <td>1</td>\n",
       "    </tr>\n",
       "    <tr>\n",
       "      <th>3</th>\n",
       "      <td>1</td>\n",
       "      <td>0</td>\n",
       "      <td>-8.379891</td>\n",
       "      <td>22</td>\n",
       "      <td>0</td>\n",
       "      <td>3.135494</td>\n",
       "      <td>0.000000</td>\n",
       "      <td>-10.842791</td>\n",
       "      <td>-0.665505</td>\n",
       "      <td>1.044607</td>\n",
       "      <td>1</td>\n",
       "    </tr>\n",
       "    <tr>\n",
       "      <th>4</th>\n",
       "      <td>1</td>\n",
       "      <td>0</td>\n",
       "      <td>-13.070105</td>\n",
       "      <td>36</td>\n",
       "      <td>36</td>\n",
       "      <td>3.610918</td>\n",
       "      <td>3.610918</td>\n",
       "      <td>-10.964433</td>\n",
       "      <td>-10.964433</td>\n",
       "      <td>1.041672</td>\n",
       "      <td>1</td>\n",
       "    </tr>\n",
       "    <tr>\n",
       "      <th>...</th>\n",
       "      <td>...</td>\n",
       "      <td>...</td>\n",
       "      <td>...</td>\n",
       "      <td>...</td>\n",
       "      <td>...</td>\n",
       "      <td>...</td>\n",
       "      <td>...</td>\n",
       "      <td>...</td>\n",
       "      <td>...</td>\n",
       "      <td>...</td>\n",
       "      <td>...</td>\n",
       "    </tr>\n",
       "    <tr>\n",
       "      <th>8793</th>\n",
       "      <td>0</td>\n",
       "      <td>0</td>\n",
       "      <td>-1.873302</td>\n",
       "      <td>59</td>\n",
       "      <td>63</td>\n",
       "      <td>5.823046</td>\n",
       "      <td>6.093570</td>\n",
       "      <td>-8.122181</td>\n",
       "      <td>-7.622121</td>\n",
       "      <td>1.077089</td>\n",
       "      <td>3</td>\n",
       "    </tr>\n",
       "    <tr>\n",
       "      <th>8794</th>\n",
       "      <td>0</td>\n",
       "      <td>0</td>\n",
       "      <td>-1.102228</td>\n",
       "      <td>53</td>\n",
       "      <td>65</td>\n",
       "      <td>5.472271</td>\n",
       "      <td>6.297109</td>\n",
       "      <td>-8.539737</td>\n",
       "      <td>-7.719609</td>\n",
       "      <td>1.077744</td>\n",
       "      <td>3</td>\n",
       "    </tr>\n",
       "    <tr>\n",
       "      <th>8795</th>\n",
       "      <td>1</td>\n",
       "      <td>0</td>\n",
       "      <td>-0.846527</td>\n",
       "      <td>67</td>\n",
       "      <td>71</td>\n",
       "      <td>7.021976</td>\n",
       "      <td>7.340836</td>\n",
       "      <td>-14.026634</td>\n",
       "      <td>-7.243576</td>\n",
       "      <td>1.106867</td>\n",
       "      <td>3</td>\n",
       "    </tr>\n",
       "    <tr>\n",
       "      <th>8796</th>\n",
       "      <td>0</td>\n",
       "      <td>0</td>\n",
       "      <td>-1.016451</td>\n",
       "      <td>66</td>\n",
       "      <td>67</td>\n",
       "      <td>6.200509</td>\n",
       "      <td>6.265301</td>\n",
       "      <td>-14.535209</td>\n",
       "      <td>-13.497222</td>\n",
       "      <td>1.073818</td>\n",
       "      <td>1</td>\n",
       "    </tr>\n",
       "    <tr>\n",
       "      <th>8797</th>\n",
       "      <td>0</td>\n",
       "      <td>0</td>\n",
       "      <td>0.743810</td>\n",
       "      <td>68</td>\n",
       "      <td>72</td>\n",
       "      <td>7.550135</td>\n",
       "      <td>7.897296</td>\n",
       "      <td>-15.077892</td>\n",
       "      <td>-8.055908</td>\n",
       "      <td>1.115896</td>\n",
       "      <td>3</td>\n",
       "    </tr>\n",
       "  </tbody>\n",
       "</table>\n",
       "<p>8211 rows × 11 columns</p>\n",
       "</div>"
      ],
      "text/plain": [
       "      # of bumps  # of inflections  curvature  min i  max i     x min  \\\n",
       "0              3                 0   3.255230     38     31  3.663562   \n",
       "1              0                 0   1.404121     39     34  3.688879   \n",
       "2              0                 0  -7.082191      6      0  1.945910   \n",
       "3              1                 0  -8.379891     22      0  3.135494   \n",
       "4              1                 0 -13.070105     36     36  3.610918   \n",
       "...          ...               ...        ...    ...    ...       ...   \n",
       "8793           0                 0  -1.873302     59     63  5.823046   \n",
       "8794           0                 0  -1.102228     53     65  5.472271   \n",
       "8795           1                 0  -0.846527     67     71  7.021976   \n",
       "8796           0                 0  -1.016451     66     67  6.200509   \n",
       "8797           0                 0   0.743810     68     72  7.550135   \n",
       "\n",
       "         x max      y min      y max         S  criticality  \n",
       "0     3.465736 -11.639162 -10.540549  1.038058            1  \n",
       "1     3.555348 -11.066295 -10.373147  1.039465            1  \n",
       "2     0.000000 -10.131818  -0.173747  1.063427            1  \n",
       "3     0.000000 -10.842791  -0.665505  1.044607            1  \n",
       "4     3.610918 -10.964433 -10.964433  1.041672            1  \n",
       "...        ...        ...        ...       ...          ...  \n",
       "8793  6.093570  -8.122181  -7.622121  1.077089            3  \n",
       "8794  6.297109  -8.539737  -7.719609  1.077744            3  \n",
       "8795  7.340836 -14.026634  -7.243576  1.106867            3  \n",
       "8796  6.265301 -14.535209 -13.497222  1.073818            1  \n",
       "8797  7.897296 -15.077892  -8.055908  1.115896            3  \n",
       "\n",
       "[8211 rows x 11 columns]"
      ]
     },
     "execution_count": 2,
     "metadata": {},
     "output_type": "execute_result"
    }
   ],
   "source": [
    "df = pd.read_csv(\"../Phase1/main_data.csv\", index_col=0)\n",
    "df = df.dropna()\n",
    "df"
   ]
  },
  {
   "cell_type": "code",
   "execution_count": 3,
   "id": "e93e3e76-0b40-4d1c-9adc-87c81104578f",
   "metadata": {},
   "outputs": [
    {
     "name": "stdout",
     "output_type": "stream",
     "text": [
      "(6568, 10) (1643, 10)\n"
     ]
    }
   ],
   "source": [
    "from sklearn.utils import shuffle\n",
    "from sklearn.model_selection import train_test_split\n",
    "\n",
    "X = df.drop('criticality', axis=1).values\n",
    "Y = df['criticality'].values\n",
    "X_train, X_test, Y_train, Y_test = train_test_split(X, Y, stratify=Y, test_size=0.2, random_state=42)\n",
    "# shuffled_data = shuffle(df.values, random_state=0)\n",
    "# shuffled_data.shape\n",
    "\n",
    "# test_index = int(shuffled_data.shape[0] * 0.8)\n",
    "\n",
    "# X_train, X_test = shuffled_data[:test_index, :-1], shuffled_data[test_index:, :-1]\n",
    "# Y_train, Y_test = shuffled_data[:test_index, -1], shuffled_data[test_index:, -1]\n",
    "# shuffled_data.shape\n",
    "print(X_train.shape, X_test.shape)"
   ]
  },
  {
   "cell_type": "markdown",
   "id": "1aa959b6-4991-41a1-86dd-87fb4fc5f2ac",
   "metadata": {},
   "source": [
    "## Decision Tree"
   ]
  },
  {
   "cell_type": "code",
   "execution_count": 4,
   "id": "9e0859ec-421e-4a79-a74f-8c8656f346c6",
   "metadata": {},
   "outputs": [],
   "source": [
    "from sklearn import tree"
   ]
  },
  {
   "cell_type": "code",
   "execution_count": 9,
   "id": "39fc7d43-8071-4f4e-b248-578007b8dfa1",
   "metadata": {},
   "outputs": [
    {
     "name": "stdout",
     "output_type": "stream",
     "text": [
      "133 ms ± 2.08 ms per loop (mean ± std. dev. of 7 runs, 10 loops each)\n"
     ]
    }
   ],
   "source": [
    "%%timeit\n",
    "dt_clf = tree.DecisionTreeClassifier(random_state=0, max_depth=10)\n",
    "dt_clf.fit(X_train, Y_train)\n",
    "\n",
    "np.sum(dt_clf.predict(X_test) == Y_test) / len(X_test)"
   ]
  },
  {
   "cell_type": "markdown",
   "id": "61631ee1-8dfd-4ac7-8a69-b8679418b558",
   "metadata": {},
   "source": [
    "## KNN (Neatest Neighbor Classification)\n",
    "**This takes a little bit of time**"
   ]
  },
  {
   "cell_type": "code",
   "execution_count": 6,
   "id": "5e058561-cdcf-4485-852b-d2bb2dc702b6",
   "metadata": {},
   "outputs": [
    {
     "name": "stdout",
     "output_type": "stream",
     "text": [
      "['chebyshev', 'cityblock', 'euclidean', 'infinity', 'l1', 'l2', 'manhattan', 'minkowski', 'p']\n"
     ]
    }
   ],
   "source": [
    "from sklearn import neighbors\n",
    "from sklearn.pipeline import Pipeline\n",
    "\n",
    "print(sorted(neighbors.KDTree.valid_metrics))"
   ]
  },
  {
   "cell_type": "code",
   "execution_count": 8,
   "id": "44577276-5644-401e-b859-17c289a282b1",
   "metadata": {},
   "outputs": [
    {
     "data": {
      "text/plain": [
       "Pipeline(steps=[('nca', NeighborhoodComponentsAnalysis(random_state=42)),\n",
       "                ('knn', KNeighborsClassifier(n_neighbors=3))])"
      ]
     },
     "execution_count": 8,
     "metadata": {},
     "output_type": "execute_result"
    }
   ],
   "source": [
    "nca = neighbors.NeighborhoodComponentsAnalysis(random_state=42)\n",
    "knn = neighbors.KNeighborsClassifier(n_neighbors=3)\n",
    "nca_pipe = Pipeline([('nca', nca), ('knn', knn)])\n",
    "nca_pipe.fit(X_train, Y_train)"
   ]
  },
  {
   "cell_type": "code",
   "execution_count": 10,
   "id": "06eabafb-d360-448e-a9a8-509bafacf4fa",
   "metadata": {},
   "outputs": [
    {
     "data": {
      "text/plain": [
       "0.8922702373706635"
      ]
     },
     "execution_count": 10,
     "metadata": {},
     "output_type": "execute_result"
    }
   ],
   "source": [
    "nca_pipe.score(X_test, Y_test)"
   ]
  },
  {
   "cell_type": "markdown",
   "id": "9c684465-bf07-4c89-be2f-eedccd711fb2",
   "metadata": {},
   "source": [
    "## Metrics\n",
    "Couldn't think of any other mectrics"
   ]
  },
  {
   "cell_type": "code",
   "execution_count": 11,
   "id": "341ba6ce-5be9-4709-a091-9f08834cf263",
   "metadata": {},
   "outputs": [],
   "source": [
    "# confusion metrics\n",
    "from sklearn.metrics import confusion_matrix"
   ]
  },
  {
   "cell_type": "code",
   "execution_count": 16,
   "id": "a802c9c8-280b-4502-871f-5f47b259bd72",
   "metadata": {},
   "outputs": [
    {
     "name": "stdout",
     "output_type": "stream",
     "text": [
      "Decision Tree:\n",
      " [[0.9132948  0.06936416 0.01734104]\n",
      " [0.31410256 0.53846154 0.1474359 ]\n",
      " [0.00929752 0.02892562 0.96177686]]\n",
      "\n",
      "\n",
      "\n",
      "NCA Pipeline:\n",
      " [[0.9132948  0.05780347 0.02890173]\n",
      " [0.35897436 0.47435897 0.16666667]\n",
      " [0.02169421 0.02995868 0.94834711]]\n"
     ]
    }
   ],
   "source": [
    "print(\"Decision Tree:\\n\", confusion_matrix(y_true=Y_test, y_pred=dt_clf.predict(X_test), normalize='true', labels=[1, 2, 3]))\n",
    "print(\"\\n\\n\")\n",
    "print(\"NCA Pipeline:\\n\", confusion_matrix(y_true=Y_test, y_pred=nca_pipe.predict(X_test), normalize='true', labels=[1, 2, 3]))"
   ]
  }
 ],
 "metadata": {
  "kernelspec": {
   "display_name": "Python 3 (ipykernel)",
   "language": "python",
   "name": "python3"
  },
  "language_info": {
   "codemirror_mode": {
    "name": "ipython",
    "version": 3
   },
   "file_extension": ".py",
   "mimetype": "text/x-python",
   "name": "python",
   "nbconvert_exporter": "python",
   "pygments_lexer": "ipython3",
   "version": "3.9.0"
  }
 },
 "nbformat": 4,
 "nbformat_minor": 5
}
