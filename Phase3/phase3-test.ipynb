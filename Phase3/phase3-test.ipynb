{
 "cells": [
  {
   "cell_type": "code",
   "execution_count": 187,
   "id": "c772c238-d805-429b-9114-2f63e6b09151",
   "metadata": {},
   "outputs": [],
   "source": [
    "# data input libraries\n",
    "import  numpy as np\n",
    "import pandas as pd"
   ]
  },
  {
   "cell_type": "code",
   "execution_count": 188,
   "id": "e0a487be-1aff-4996-b907-7817875d93a0",
   "metadata": {},
   "outputs": [],
   "source": [
    "# visualization library\n",
    "import matplotlib.pyplot as plt\n",
    "\n",
    "# style matplotlib as seaborn (modern)\n",
    "from matplotlib import style\n",
    "plt.style.use('seaborn-talk')\n",
    "\n",
    "# Ignore warnings\n",
    "import warnings\n",
    "warnings.filterwarnings('ignore')"
   ]
  },
  {
   "cell_type": "code",
   "execution_count": 189,
   "id": "5dc3119d-fdb7-4255-9f34-29cfd3841a4a",
   "metadata": {},
   "outputs": [
    {
     "data": {
      "text/html": [
       "<div>\n",
       "<style scoped>\n",
       "    .dataframe tbody tr th:only-of-type {\n",
       "        vertical-align: middle;\n",
       "    }\n",
       "\n",
       "    .dataframe tbody tr th {\n",
       "        vertical-align: top;\n",
       "    }\n",
       "\n",
       "    .dataframe thead th {\n",
       "        text-align: right;\n",
       "    }\n",
       "</style>\n",
       "<table border=\"1\" class=\"dataframe\">\n",
       "  <thead>\n",
       "    <tr style=\"text-align: right;\">\n",
       "      <th></th>\n",
       "      <th># of bumps</th>\n",
       "      <th># of inflections</th>\n",
       "      <th>curvature</th>\n",
       "      <th>min i</th>\n",
       "      <th>max i</th>\n",
       "      <th>x min</th>\n",
       "      <th>x max</th>\n",
       "      <th>y min</th>\n",
       "      <th>y max</th>\n",
       "      <th>S</th>\n",
       "      <th>criticality</th>\n",
       "    </tr>\n",
       "  </thead>\n",
       "  <tbody>\n",
       "    <tr>\n",
       "      <th>0</th>\n",
       "      <td>3</td>\n",
       "      <td>0</td>\n",
       "      <td>3.255230</td>\n",
       "      <td>38</td>\n",
       "      <td>31</td>\n",
       "      <td>3.663562</td>\n",
       "      <td>3.465736</td>\n",
       "      <td>-11.639162</td>\n",
       "      <td>-10.540549</td>\n",
       "      <td>1.038058</td>\n",
       "      <td>1</td>\n",
       "    </tr>\n",
       "    <tr>\n",
       "      <th>1</th>\n",
       "      <td>0</td>\n",
       "      <td>0</td>\n",
       "      <td>1.404121</td>\n",
       "      <td>39</td>\n",
       "      <td>34</td>\n",
       "      <td>3.688879</td>\n",
       "      <td>3.555348</td>\n",
       "      <td>-11.066295</td>\n",
       "      <td>-10.373147</td>\n",
       "      <td>1.039465</td>\n",
       "      <td>1</td>\n",
       "    </tr>\n",
       "    <tr>\n",
       "      <th>2</th>\n",
       "      <td>0</td>\n",
       "      <td>0</td>\n",
       "      <td>-7.082191</td>\n",
       "      <td>6</td>\n",
       "      <td>0</td>\n",
       "      <td>1.945910</td>\n",
       "      <td>0.000000</td>\n",
       "      <td>-10.131818</td>\n",
       "      <td>-0.173747</td>\n",
       "      <td>1.063427</td>\n",
       "      <td>1</td>\n",
       "    </tr>\n",
       "    <tr>\n",
       "      <th>3</th>\n",
       "      <td>1</td>\n",
       "      <td>0</td>\n",
       "      <td>-8.379891</td>\n",
       "      <td>22</td>\n",
       "      <td>0</td>\n",
       "      <td>3.135494</td>\n",
       "      <td>0.000000</td>\n",
       "      <td>-10.842791</td>\n",
       "      <td>-0.665505</td>\n",
       "      <td>1.044607</td>\n",
       "      <td>1</td>\n",
       "    </tr>\n",
       "    <tr>\n",
       "      <th>4</th>\n",
       "      <td>1</td>\n",
       "      <td>0</td>\n",
       "      <td>-13.070105</td>\n",
       "      <td>36</td>\n",
       "      <td>36</td>\n",
       "      <td>3.610918</td>\n",
       "      <td>3.610918</td>\n",
       "      <td>-10.964433</td>\n",
       "      <td>-10.964433</td>\n",
       "      <td>1.041672</td>\n",
       "      <td>1</td>\n",
       "    </tr>\n",
       "    <tr>\n",
       "      <th>...</th>\n",
       "      <td>...</td>\n",
       "      <td>...</td>\n",
       "      <td>...</td>\n",
       "      <td>...</td>\n",
       "      <td>...</td>\n",
       "      <td>...</td>\n",
       "      <td>...</td>\n",
       "      <td>...</td>\n",
       "      <td>...</td>\n",
       "      <td>...</td>\n",
       "      <td>...</td>\n",
       "    </tr>\n",
       "    <tr>\n",
       "      <th>8793</th>\n",
       "      <td>0</td>\n",
       "      <td>0</td>\n",
       "      <td>-1.873302</td>\n",
       "      <td>59</td>\n",
       "      <td>63</td>\n",
       "      <td>5.823046</td>\n",
       "      <td>6.093570</td>\n",
       "      <td>-8.122181</td>\n",
       "      <td>-7.622121</td>\n",
       "      <td>1.077089</td>\n",
       "      <td>3</td>\n",
       "    </tr>\n",
       "    <tr>\n",
       "      <th>8794</th>\n",
       "      <td>0</td>\n",
       "      <td>0</td>\n",
       "      <td>-1.102228</td>\n",
       "      <td>53</td>\n",
       "      <td>65</td>\n",
       "      <td>5.472271</td>\n",
       "      <td>6.297109</td>\n",
       "      <td>-8.539737</td>\n",
       "      <td>-7.719609</td>\n",
       "      <td>1.077744</td>\n",
       "      <td>3</td>\n",
       "    </tr>\n",
       "    <tr>\n",
       "      <th>8795</th>\n",
       "      <td>1</td>\n",
       "      <td>0</td>\n",
       "      <td>-0.846527</td>\n",
       "      <td>67</td>\n",
       "      <td>71</td>\n",
       "      <td>7.021976</td>\n",
       "      <td>7.340836</td>\n",
       "      <td>-14.026634</td>\n",
       "      <td>-7.243576</td>\n",
       "      <td>1.106867</td>\n",
       "      <td>3</td>\n",
       "    </tr>\n",
       "    <tr>\n",
       "      <th>8796</th>\n",
       "      <td>0</td>\n",
       "      <td>0</td>\n",
       "      <td>-1.016451</td>\n",
       "      <td>66</td>\n",
       "      <td>67</td>\n",
       "      <td>6.200509</td>\n",
       "      <td>6.265301</td>\n",
       "      <td>-14.535209</td>\n",
       "      <td>-13.497222</td>\n",
       "      <td>1.073818</td>\n",
       "      <td>1</td>\n",
       "    </tr>\n",
       "    <tr>\n",
       "      <th>8797</th>\n",
       "      <td>0</td>\n",
       "      <td>0</td>\n",
       "      <td>0.743810</td>\n",
       "      <td>68</td>\n",
       "      <td>72</td>\n",
       "      <td>7.550135</td>\n",
       "      <td>7.897296</td>\n",
       "      <td>-15.077892</td>\n",
       "      <td>-8.055908</td>\n",
       "      <td>1.115896</td>\n",
       "      <td>3</td>\n",
       "    </tr>\n",
       "  </tbody>\n",
       "</table>\n",
       "<p>8211 rows × 11 columns</p>\n",
       "</div>"
      ],
      "text/plain": [
       "      # of bumps  # of inflections  curvature  min i  max i     x min  \\\n",
       "0              3                 0   3.255230     38     31  3.663562   \n",
       "1              0                 0   1.404121     39     34  3.688879   \n",
       "2              0                 0  -7.082191      6      0  1.945910   \n",
       "3              1                 0  -8.379891     22      0  3.135494   \n",
       "4              1                 0 -13.070105     36     36  3.610918   \n",
       "...          ...               ...        ...    ...    ...       ...   \n",
       "8793           0                 0  -1.873302     59     63  5.823046   \n",
       "8794           0                 0  -1.102228     53     65  5.472271   \n",
       "8795           1                 0  -0.846527     67     71  7.021976   \n",
       "8796           0                 0  -1.016451     66     67  6.200509   \n",
       "8797           0                 0   0.743810     68     72  7.550135   \n",
       "\n",
       "         x max      y min      y max         S  criticality  \n",
       "0     3.465736 -11.639162 -10.540549  1.038058            1  \n",
       "1     3.555348 -11.066295 -10.373147  1.039465            1  \n",
       "2     0.000000 -10.131818  -0.173747  1.063427            1  \n",
       "3     0.000000 -10.842791  -0.665505  1.044607            1  \n",
       "4     3.610918 -10.964433 -10.964433  1.041672            1  \n",
       "...        ...        ...        ...       ...          ...  \n",
       "8793  6.093570  -8.122181  -7.622121  1.077089            3  \n",
       "8794  6.297109  -8.539737  -7.719609  1.077744            3  \n",
       "8795  7.340836 -14.026634  -7.243576  1.106867            3  \n",
       "8796  6.265301 -14.535209 -13.497222  1.073818            1  \n",
       "8797  7.897296 -15.077892  -8.055908  1.115896            3  \n",
       "\n",
       "[8211 rows x 11 columns]"
      ]
     },
     "execution_count": 189,
     "metadata": {},
     "output_type": "execute_result"
    }
   ],
   "source": [
    "# import data\n",
    "df = pd.read_csv(\"../Phase1/main_data.csv\", index_col=0)\n",
    "df = df.dropna()\n",
    "df"
   ]
  },
  {
   "cell_type": "code",
   "execution_count": 192,
   "id": "104bee1e-dde3-484b-a123-aaba0795b47e",
   "metadata": {},
   "outputs": [
    {
     "name": "stdout",
     "output_type": "stream",
     "text": [
      "(5747, 10)\n",
      "(2464, 10)\n"
     ]
    }
   ],
   "source": [
    "# configuting data set for training\n",
    "from sklearn.model_selection import train_test_split\n",
    "\n",
    "X = df.drop('criticality', axis=1).values\n",
    "Y = df['criticality'].values - 1 # take the indices for the actual label: 0 = sub-critical, 1 = critical, 2 = super-critical\n",
    "\n",
    "X_train, X_test, Y_train, Y_test = train_test_split(X, Y, random_state=42, test_size=0.3)\n",
    "\n",
    "print(X_train.shape)\n",
    "print(X_test.shape)"
   ]
  },
  {
   "cell_type": "markdown",
   "id": "0190be41-d8a7-49d5-9133-88043570cb09",
   "metadata": {},
   "source": [
    "# Pytorch"
   ]
  },
  {
   "cell_type": "code",
   "execution_count": 193,
   "id": "d7d83d2d-2478-423f-b13e-741dca5f162a",
   "metadata": {},
   "outputs": [],
   "source": [
    "import torch\n",
    "import torch.nn as nn\n",
    "import torch.nn.functional as F\n",
    "import torch.optim as optim"
   ]
  },
  {
   "cell_type": "code",
   "execution_count": 194,
   "id": "0ae64998-1deb-4cb8-a901-c4c833315e1c",
   "metadata": {},
   "outputs": [
    {
     "data": {
      "text/plain": [
       "10"
      ]
     },
     "execution_count": 194,
     "metadata": {},
     "output_type": "execute_result"
    }
   ],
   "source": [
    "# transforming data to tensor to use in pytorch\n",
    "x_tr = torch.from_numpy(X_train).float()\n",
    "x_ts = torch.from_numpy(X_test).float()\n",
    "\n",
    "y_tr = torch.from_numpy(Y_train)\n",
    "y_ts = torch.from_numpy(Y_test)\n",
    "\n",
    "# number of features\n",
    "n_f = x_tr.size()[1]\n",
    "n_l = 3\n",
    "n_f"
   ]
  },
  {
   "cell_type": "code",
   "execution_count": 195,
   "id": "4f902008-742a-4e60-b857-bdd3cca54981",
   "metadata": {},
   "outputs": [
    {
     "name": "stdout",
     "output_type": "stream",
     "text": [
      "Net(\n",
      "  (fc1): Linear(in_features=10, out_features=128, bias=True)\n",
      "  (fc2): Linear(in_features=128, out_features=30, bias=True)\n",
      "  (fc3): Linear(in_features=30, out_features=3, bias=True)\n",
      ")\n"
     ]
    }
   ],
   "source": [
    "class Net(nn.Module):\n",
    "\n",
    "    def __init__(self):\n",
    "        super(Net, self).__init__()\n",
    "        self.fc1 = nn.Linear(n_f, 128)\n",
    "        self.fc2 = nn.Linear(128, 30)\n",
    "        self.fc3 = nn.Linear(30, n_l)\n",
    "\n",
    "    def forward(self, x):\n",
    "        x = x.view(-1, self.num_flat_features(x))\n",
    "        x = F.relu(self.fc1(x))\n",
    "        x = F.relu(self.fc2(x))\n",
    "        x = self.fc3(x)\n",
    "\n",
    "        output = F.softmax(x, dim=1)\n",
    "\n",
    "        return output\n",
    "\n",
    "    def num_flat_features(self, x):\n",
    "        size = x.size()[1:]  # all dimensions except the batch dimension\n",
    "        num_features = 1\n",
    "        for s in size:\n",
    "            num_features *= s\n",
    "        return num_features\n",
    "\n",
    "\n",
    "net = Net()\n",
    "print(net)"
   ]
  },
  {
   "cell_type": "code",
   "execution_count": 219,
   "id": "2aea21b4-c6da-4cb6-9fcf-377b00aa6d0b",
   "metadata": {},
   "outputs": [],
   "source": [
    "net = Net()    # recreate net anew\n",
    "optimizer = optim.Adam(net.parameters(), lr=.01)\n",
    "# optimizer = optim.SGD(net.parameters(), lr=.01)\n",
    "# optimizer = optim.Adagrad(net.parameters(), lr=0.01, initial_accumulator_value=0.1)\n",
    "criterion = nn.NLLLoss(weight=torch.tensor([1, 2.5, 1]))    # 2.5 weight of critical class"
   ]
  },
  {
   "cell_type": "code",
   "execution_count": 220,
   "id": "851a53d3-aa0e-4eba-baa0-0c64d4316e2d",
   "metadata": {},
   "outputs": [
    {
     "data": {
      "text/plain": [
       "tensor(0.0828)"
      ]
     },
     "execution_count": 220,
     "metadata": {},
     "output_type": "execute_result"
    }
   ],
   "source": [
    "# this is the initial state of the network\n",
    "(net.forward(x_ts).argmax(axis=1) + 1 ==y_ts).sum()/len(y_ts)"
   ]
  },
  {
   "cell_type": "code",
   "execution_count": 221,
   "id": "058e43ef-4882-4cf1-903d-7b71f656c606",
   "metadata": {},
   "outputs": [],
   "source": [
    "n_epoch=30\n",
    "btch_size = 500"
   ]
  },
  {
   "cell_type": "markdown",
   "id": "310ae5c8-435b-4793-bd93-ea75ff6b487d",
   "metadata": {},
   "source": [
    "## Using dataloaders"
   ]
  },
  {
   "cell_type": "code",
   "execution_count": 222,
   "id": "9943cf86-9131-46ba-88b7-75c0e76dbc72",
   "metadata": {},
   "outputs": [],
   "source": [
    "## Training data\n",
    "training_dataset = torch.utils.data.TensorDataset(x_tr, y_tr)\n",
    "train_loader = torch.utils.data.DataLoader(training_dataset, batch_size=btch_size, shuffle=True)\n",
    "\n",
    "## Test data\n",
    "test_dataset = torch.utils.data.TensorDataset(x_ts, y_ts)\n",
    "test_loader = torch.utils.data.DataLoader(test_dataset, batch_size=btch_size, shuffle=True)"
   ]
  },
  {
   "cell_type": "code",
   "execution_count": 223,
   "id": "ed6c5931-c71a-4081-9bee-1a2f108aba1f",
   "metadata": {},
   "outputs": [
    {
     "data": {
      "text/plain": [
       "(tensor([  1.0000,   0.0000, -10.7648,  37.0000,  62.0000,   4.1897,   5.7526,\n",
       "         -12.1356, -12.5951,   1.0982]),\n",
       " tensor(2))"
      ]
     },
     "execution_count": 223,
     "metadata": {},
     "output_type": "execute_result"
    }
   ],
   "source": [
    "test_dataset[0]"
   ]
  },
  {
   "cell_type": "markdown",
   "id": "871917b6-931b-493c-84ac-90327f112972",
   "metadata": {},
   "source": [
    "## Mini-batch SGD optimization"
   ]
  },
  {
   "cell_type": "code",
   "execution_count": 224,
   "id": "c32594b3-f411-474a-9d8a-c3ba0ce43fb9",
   "metadata": {},
   "outputs": [
    {
     "name": "stdout",
     "output_type": "stream",
     "text": [
      "torch.Size([500])\n"
     ]
    }
   ],
   "source": [
    "for i, (X_batch, Y_batch) in enumerate(train_loader):\n",
    "    print(Y_batch.size())\n",
    "    break"
   ]
  },
  {
   "cell_type": "code",
   "execution_count": 225,
   "id": "009f9ef4-96a9-4710-8bd9-e3f55656deaa",
   "metadata": {},
   "outputs": [
    {
     "name": "stdout",
     "output_type": "stream",
     "text": [
      "Starting 0 epoch.\n",
      "Starting 1 epoch.\n",
      "Starting 2 epoch.\n",
      "Starting 3 epoch.\n",
      "Starting 4 epoch.\n",
      "Starting 5 epoch.\n",
      "Starting 6 epoch.\n",
      "Starting 7 epoch.\n",
      "Starting 8 epoch.\n",
      "Starting 9 epoch.\n",
      "Starting 10 epoch.\n",
      "Starting 11 epoch.\n",
      "Starting 12 epoch.\n",
      "Starting 13 epoch.\n",
      "Starting 14 epoch.\n",
      "Starting 15 epoch.\n",
      "Starting 16 epoch.\n",
      "Starting 17 epoch.\n",
      "Starting 18 epoch.\n",
      "Starting 19 epoch.\n",
      "Starting 20 epoch.\n",
      "Starting 21 epoch.\n",
      "Starting 22 epoch.\n",
      "Starting 23 epoch.\n",
      "Starting 24 epoch.\n",
      "Starting 25 epoch.\n",
      "Starting 26 epoch.\n",
      "Starting 27 epoch.\n",
      "Starting 28 epoch.\n",
      "Starting 29 epoch.\n",
      "CPU times: user 50.7 s, sys: 1.2 s, total: 51.9 s\n",
      "Wall time: 13.4 s\n"
     ]
    }
   ],
   "source": [
    "%%time\n",
    "n_s = len(x_tr)\n",
    "n_ts = len(x_ts)\n",
    "\n",
    "\n",
    "#We also need to keep track of the loss. \n",
    "sample_rate = 10\n",
    "training_losses = []\n",
    "test_losses = []\n",
    "\n",
    "training_accuracy = []\n",
    "test_accuracy = []\n",
    "\n",
    "for i in range(n_epoch):\n",
    "    print(f'Starting {i} epoch.')\n",
    "    # print(len(training_losses))\n",
    "    ind = 0\n",
    "\n",
    "    for i, (X_batch, Y_batch) in enumerate(train_loader):\n",
    "        # X_batch = X_batch.to(device)\n",
    "        # Y_batch = Y_batch.to(device)\n",
    "        ind += 1\n",
    "\n",
    "        # Forward pass\n",
    "        # #Precit the output for Given input\n",
    "        outputs = net(X_batch)\n",
    "        # print(outputs.type(), Y_batch.type())\n",
    "        loss = criterion(outputs, Y_batch)\n",
    "\n",
    "        # Backward and optimize\n",
    "        #Clear the previous gradients\n",
    "        optimizer.zero_grad()\n",
    "        loss.backward()\n",
    "        optimizer.step()\n",
    "\n",
    "        ## Every sample_rate, we record the loss and accuracy. \n",
    "        if ind%(int(n_s/btch_size/sample_rate))==0:\n",
    "            y_tr_pred = net.forward(x_tr)\n",
    "            training_losses += [F.nll_loss( y_tr_pred, y_tr).item() ]\n",
    "            training_accuracy += [torch.sum( y_tr == \n",
    "                                          torch.argmax( y_tr_pred, axis=1 ) ).item()/n_s ]\n",
    "\n",
    "            # print(F.nll_loss( net.forward(x_ts) , y_ts) )\n",
    "            y_ts_pred = net.forward(x_ts)\n",
    "            test_losses += [F.nll_loss( y_ts_pred, y_ts).item() ]\n",
    "            test_accuracy += [torch.sum( y_ts == \n",
    "                                          torch.argmax( y_ts_pred, axis=1 )).item()/n_ts ]\n",
    "\n"
   ]
  },
  {
   "cell_type": "code",
   "execution_count": 226,
   "id": "a659898e-d051-402f-aa95-2d9b5ae31f6e",
   "metadata": {
    "scrolled": true,
    "tags": []
   },
   "outputs": [
    {
     "name": "stdout",
     "output_type": "stream",
     "text": [
      "[0.6838350443709762, 0.6970593353053767, 0.7360361927962416, 0.7489124760744736, 0.7513485296676526, 0.7541325909170001, 0.7607447363842005, 0.7741430311466853, 0.8105098312162867, 0.4216112754480599, 0.8286062293370454, 0.7962415173133809, 0.7852792761440752, 0.7807551766138855, 0.7783191230207065, 0.7804071689577171, 0.7837132416913172, 0.789107360361928, 0.7995475900469811, 0.8152079345745606, 0.8373064207412563, 0.8073777623107709, 0.8453105968331304, 0.844266573864625, 0.8308682791021402, 0.8232121106664346, 0.8240821298068558, 0.8279102140247085, 0.837828432225509, 0.8484426657386462, 0.8552288150339308, 0.8380024360535931, 0.852966765268836, 0.856272838002436, 0.8543587958935096, 0.8533147729250044, 0.8548808073777623, 0.8545327997215939, 0.8552288150339308, 0.8580128762832783, 0.8583608839394467, 0.8581868801113625, 0.8587088915956151, 0.8583608839394467, 0.8585348877675308, 0.8581868801113625, 0.8587088915956151, 0.8583608839394467, 0.857838872455194, 0.8555768226900992, 0.8587088915956151, 0.8569688533147729, 0.8566208456586045, 0.8573168609709414, 0.8573168609709414, 0.8571428571428571, 0.8588828954236993, 0.8581868801113625, 0.8588828954236993, 0.8588828954236993, 0.8595789107360362, 0.8588828954236993, 0.8595789107360362, 0.8590568992517835, 0.8588828954236993, 0.8583608839394467, 0.8576648686271098, 0.856272838002436, 0.8496606925352358, 0.8447885853488777, 0.8425265355837829, 0.8515747346441622, 0.8592309030798677, 0.8592309030798677, 0.8547068035496781, 0.8460066121454672, 0.8560988341743518, 0.8592309030798677, 0.8601009222202889, 0.8522707499564991, 0.8409605011310248, 0.8336523403514877, 0.8333043326953193, 0.8340003480076562, 0.8427005394118671, 0.8543587958935096, 0.8599269183922046, 0.8599269183922046, 0.8559248303462677, 0.8460066121454672, 0.8573168609709414, 0.8590568992517835, 0.86097094136071, 0.8585348877675308, 0.8533147729250044, 0.8500087001914042, 0.8489646772228989, 0.8467026274578041, 0.8527927614407517, 0.8616669566730468, 0.8599269183922046, 0.8567948494866887, 0.8501827040194885, 0.8526187576126675, 0.8567948494866887, 0.8588828954236993, 0.861840960501131, 0.8580128762832783, 0.852966765268836, 0.8500087001914042, 0.8496606925352358, 0.8517487384722464, 0.8576648686271098, 0.8621889681572995, 0.8595789107360362, 0.857838872455194, 0.8552288150339308, 0.8540107882373412, 0.8547068035496781, 0.8560988341743518, 0.8576648686271098, 0.8585348877675308, 0.8599269183922046, 0.8621889681572995, 0.8616669566730468, 0.8614929528449626, 0.86097094136071, 0.8607969375326258, 0.8597529145641204, 0.8552288150339308, 0.8501827040194885, 0.8500087001914042, 0.8522707499564991, 0.8564468418305202, 0.8616669566730468, 0.8621889681572995, 0.8587088915956151, 0.8585348877675308, 0.855402818862015, 0.8548808073777623, 0.8557508265181833, 0.8573168609709414, 0.8587088915956151, 0.8590568992517835, 0.8607969375326258, 0.8625369758134679, 0.8621889681572995, 0.8627109796415521, 0.8628849834696364, 0.8614929528449626, 0.8628849834696364, 0.8620149643292152, 0.8621889681572995, 0.8601009222202889, 0.8616669566730468, 0.8613189490168783, 0.8613189490168783, 0.8613189490168783, 0.8627109796415521, 0.8630589872977206, 0.8632329911258048, 0.8632329911258048, 0.8635809987819733, 0.8628849834696364, 0.8621889681572995, 0.8632329911258048, 0.8632329911258048, 0.8630589872977206, 0.8630589872977206, 0.8632329911258048, 0.8637550026100574, 0.863406994953889, 0.8635809987819733, 0.8639290064381416, 0.8637550026100574, 0.8635809987819733, 0.863406994953889, 0.8635809987819733, 0.8639290064381416, 0.8637550026100574, 0.8632329911258048, 0.8632329911258048, 0.8628849834696364, 0.8630589872977206, 0.8644510179223943, 0.8644510179223943, 0.8616669566730468, 0.8602749260483731, 0.8611449451887941, 0.8621889681572995, 0.863406994953889, 0.8641030102662258, 0.8637550026100574, 0.8607969375326258, 0.856272838002436, 0.8564468418305202, 0.8599269183922046, 0.8644510179223943, 0.8647990255785627, 0.8639290064381416, 0.8625369758134679, 0.8639290064381416, 0.8647990255785627, 0.8644510179223943, 0.8644510179223943, 0.8647990255785627, 0.8642770140943101, 0.8627109796415521, 0.8621889681572995, 0.8630589872977206, 0.8637550026100574, 0.864973029406647, 0.8651470332347312, 0.8651470332347312, 0.8641030102662258, 0.8644510179223943, 0.864973029406647, 0.8653210370628154, 0.8637550026100574, 0.8639290064381416, 0.8635809987819733, 0.8635809987819733, 0.8641030102662258, 0.8635809987819733, 0.8644510179223943, 0.864973029406647, 0.863406994953889, 0.8646250217504785, 0.864973029406647, 0.8651470332347312, 0.8646250217504785, 0.8651470332347312, 0.8632329911258048, 0.861840960501131, 0.8614929528449626, 0.8614929528449626, 0.8616669566730468, 0.8647990255785627, 0.8647990255785627, 0.8628849834696364, 0.8623629719853837, 0.8627109796415521, 0.863406994953889, 0.8646250217504785, 0.8646250217504785, 0.864973029406647, 0.8642770140943101, 0.8653210370628154, 0.8644510179223943, 0.864973029406647, 0.8641030102662258, 0.8647990255785627, 0.8639290064381416, 0.8625369758134679, 0.8602749260483731, 0.855402818862015, 0.856272838002436, 0.8573168609709414, 0.8621889681572995, 0.8646250217504785, 0.8647990255785627, 0.8642770140943101, 0.8654950408908996, 0.8647990255785627, 0.8653210370628154, 0.8651470332347312, 0.8654950408908996, 0.8647990255785627, 0.8647990255785627, 0.8658430485470681, 0.8656690447189839, 0.8656690447189839, 0.8635809987819733, 0.863406994953889, 0.8641030102662258, 0.8656690447189839, 0.8658430485470681, 0.8651470332347312, 0.8644510179223943, 0.8658430485470681, 0.8663650600313207, 0.8620149643292152, 0.8571428571428571, 0.8512267269879937, 0.8512267269879937, 0.8526187576126675, 0.8614929528449626, 0.8635809987819733, 0.8625369758134679, 0.8614929528449626, 0.8604489298764573, 0.861840960501131, 0.8621889681572995, 0.8641030102662258, 0.8646250217504785, 0.8630589872977206, 0.8613189490168783, 0.8602749260483731, 0.8620149643292152, 0.8623629719853837, 0.8635809987819733, 0.8663650600313207, 0.8656690447189839, 0.863406994953889, 0.8607969375326258, 0.8595789107360362, 0.8621889681572995, 0.8661910562032364, 0.8651470332347312, 0.86097094136071, 0.8522707499564991, 0.8437445623803723, 0.8440925700365408, 0.8515747346441622, 0.8599269183922046, 0.8660170523751523, 0.8637550026100574, 0.8627109796415521, 0.8599269183922046, 0.8628849834696364, 0.864973029406647, 0.8625369758134679, 0.8620149643292152, 0.8588828954236993, 0.8573168609709414, 0.8533147729250044, 0.8520967461284148, 0.8519227423003306, 0.8540107882373412, 0.8585348877675308, 0.8607969375326258, 0.8647990255785627, 0.8651470332347312, 0.8567948494866887, 0.8468766312858883, 0.8496606925352358, 0.8573168609709414, 0.8639290064381416, 0.8660170523751523, 0.863406994953889, 0.8630589872977206, 0.8630589872977206, 0.8628849834696364, 0.8639290064381416, 0.8660170523751523, 0.8658430485470681, 0.8642770140943101, 0.8627109796415521, 0.8597529145641204, 0.857838872455194, 0.8616669566730468, 0.863406994953889, 0.864973029406647, 0.864973029406647, 0.8654950408908996, 0.8658430485470681, 0.8660170523751523, 0.8651470332347312, 0.8644510179223943, 0.8613189490168783]\n"
     ]
    }
   ],
   "source": [
    "print(training_accuracy)"
   ]
  },
  {
   "cell_type": "markdown",
   "id": "1348e76b-8a3f-47ca-835a-a2bc94ec79e1",
   "metadata": {
    "tags": []
   },
   "source": [
    "## Plot the results of SGD training"
   ]
  },
  {
   "cell_type": "code",
   "execution_count": 240,
   "id": "9d81741b-6903-4ae6-a8c3-8dfd55580a30",
   "metadata": {},
   "outputs": [
    {
     "data": {
      "image/png": "[encoded data removed]",
      "text/plain": [
       "<Figure size 1008x432 with 2 Axes>"
      ]
     },
     "metadata": {
      "needs_background": "light"
     },
     "output_type": "display_data"
    }
   ],
   "source": [
    "# Plot training & validation accuracy values\n",
    "fig = plt.figure(figsize=(14,6))\n",
    "ax = fig.add_subplot(1,2,1, title = 'Model accuracy', ylabel= 'Accuracy')\n",
    "plt.plot(training_accuracy)\n",
    "plt.plot(test_accuracy)\n",
    "plt.legend(['Train', 'Test'], loc='upper left')\n",
    "\n",
    "# Plot training & validation loss values\n",
    "ax = fig.add_subplot(1,2,2, title = 'Model loss', ylabel= 'Loss', xlabel = 'Step')\n",
    "plt.plot(training_losses)\n",
    "plt.plot(test_losses )\n",
    "plt.legend(['Train', 'Test'], loc=0)\n",
    "\n",
    "plt.tight_layout()\n",
    "plt.savefig(\"accuracy_loss_adam.jpg\", dpi=150)\n",
    "plt.show()"
   ]
  },
  {
   "cell_type": "markdown",
   "id": "f07e67e2-3c2a-42ef-897d-20659c4215f6",
   "metadata": {},
   "source": [
    "## Testing the final results with confusion matrix"
   ]
  },
  {
   "cell_type": "code",
   "execution_count": 233,
   "id": "753f9c78-012a-43a8-bdf9-8fb9d77b1a0f",
   "metadata": {},
   "outputs": [],
   "source": [
    "from sklearn.metrics import confusion_matrix, plot_confusion_matrix"
   ]
  },
  {
   "cell_type": "code",
   "execution_count": 239,
   "id": "b9dca4cd-300c-4b02-ae6a-0e02448c43f1",
   "metadata": {},
   "outputs": [
    {
     "name": "stdout",
     "output_type": "stream",
     "text": [
      "[[ 721    0   60]\n",
      " [ 108    0  123]\n",
      " [  41    0 1411]]\n"
     ]
    },
    {
     "data": {
      "image/png": "[encoded data removed]",
      "text/plain": [
       "<Figure size 748.8x514.8 with 2 Axes>"
      ]
     },
     "metadata": {
      "needs_background": "light"
     },
     "output_type": "display_data"
    }
   ],
   "source": [
    "output = net.forward(x_ts)\n",
    "matrix = confusion_matrix(y_ts, output.argmax(axis=1))\n",
    "print(matrix)\n",
    "plt.imshow(matrix)\n",
    "plt.colorbar()\n",
    "plt.savefig(\"confusion_matrix_adam.jpg\", bbox_inches=\"tight\", dpi=150)\n",
    "plt.show()"
   ]
  },
  {
   "cell_type": "markdown",
   "id": "a0ee2b2e-7d36-4a8b-84b9-c69b0ffd8bcb",
   "metadata": {},
   "source": [
    "Apparently we don't get any of the critical plots right. It's a big problem.\n",
    "\n",
    "Might be because we don't have enough data for the critical region."
   ]
  }
 ],
 "metadata": {
  "kernelspec": {
   "display_name": "Python 3 (ipykernel)",
   "language": "python",
   "name": "python3"
  },
  "language_info": {
   "codemirror_mode": {
    "name": "ipython",
    "version": 3
   },
   "file_extension": ".py",
   "mimetype": "text/x-python",
   "name": "python",
   "nbconvert_exporter": "python",
   "pygments_lexer": "ipython3",
   "version": "3.9.0"
  }
 },
 "nbformat": 4,
 "nbformat_minor": 5
}
